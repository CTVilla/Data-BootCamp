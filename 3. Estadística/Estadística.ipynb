{
 "cells": [
  {
   "cell_type": "markdown",
   "metadata": {},
   "source": [
    "### Los datos son baratos pero el conocimiento es más difícil de conseguir"
   ]
  },
  {
   "cell_type": "code",
   "execution_count": null,
   "metadata": {
    "collapsed": true
   },
   "outputs": [],
   "source": [
    "La probabilidad es el estudio de los acontecimientos al azar.\n",
    "La estadística es la disciplina de la utilización de muestras de datos para apoyar las afirmaciones sobre\n",
    "poblaciones . La mayoría de análisis estadístico se basa en la probabilidad, la cual es\n",
    "Por eso estas piezas suelen presentarse juntos.\n",
    "Cálculo es una herramienta que se adapta bien a un análisis cuantitativo y\n",
    "los ordenadores se utilizan comúnmente para procesar estadísticas. También, computacional\n",
    "experimentos son útiles para explorar los conceptos de probabilidad y\n",
    "estadística."
   ]
  },
  {
   "cell_type": "code",
   "execution_count": null,
   "metadata": {
    "collapsed": true
   },
   "outputs": [],
   "source": [
    "La recogida de datos : Se utilizará datos de una gran encuesta nacional que fue diseñado\n",
    "explícitamente con el objetivo de generar inferencias estadísticamente válidas\n",
    "acerca de la población EE.UU. .\n",
    "Estadística descriptiva : Se generarán estadísticas que resumen los datos\n",
    "concisa , y evaluar diferentes formas de visualizar los datos .\n",
    "análisis exploratorio de datos : Vamos a buscar patrones , diferencias, y otros\n",
    "características que responden a las preguntas que les interesa . Al mismo\n",
    "el tiempo vamos a comprobar si hay inconsistencias e identificar limitaciones .\n",
    "La prueba de hipótesis : ¿Dónde vemos efectos aparentes , como una diferencia entre\n",
    "dos grupos , vamos a evaluar si el efecto es real , o\n",
    "si podría haber sucedido por casualidad.\n",
    "Estimación : Vamos a utilizar los datos de una muestra para estimar las características de\n",
    "la población general."
   ]
  },
  {
   "cell_type": "markdown",
   "metadata": {},
   "source": [
    "## Estadistica Descriptiva\n",
    "\n",
    "Empezar a entender mis datos."
   ]
  },
  {
   "cell_type": "markdown",
   "metadata": {},
   "source": [
    "### Media\n",
    "\n",
    "Si se tiene una muestra de $n$ valores: $x_i$ \n",
    "La media $\\mu$ es la suma de los valores dividido por el número de valores\n",
    "\n",
    "$$ \\mu = \\frac{1}{n} \\sum_{i}^{n} x_i $$"
   ]
  },
  {
   "cell_type": "code",
   "execution_count": 4,
   "metadata": {
    "collapsed": false
   },
   "outputs": [
    {
     "data": {
      "text/plain": [
       "29.69911764705882"
      ]
     },
     "execution_count": 4,
     "metadata": {},
     "output_type": "execute_result"
    }
   ],
   "source": [
    "import pandas as pd\n",
    "import numpy as np\n",
    "\n",
    "data = pd.read_csv(\"train.csv\")\n",
    "media_edad = np.mean(data['Age'])\n",
    "media_edad"
   ]
  },
  {
   "cell_type": "markdown",
   "metadata": {},
   "source": [
    "La media se encarga de describir la tendencia central de nuestros datos."
   ]
  },
  {
   "cell_type": "markdown",
   "metadata": {},
   "source": [
    "¡Importante!, esta media $\\mu$ se usa para describir a una población completa."
   ]
  },
  {
   "cell_type": "markdown",
   "metadata": {},
   "source": [
    "### Varianza\n",
    "\n",
    "Otro valor estadistico que nos ayuda a entender nuestros datos es la Varianza. A diferencia de la media que describe la tendencia de en donde se centran nuestros datos, la varianza describe que tan lejos se encuentran los datos de la media.\n",
    "\n",
    "$$ \\sigma^2 = \\frac{1}{n} \\sum_{i}^{n} (x_i - \\mu)^2 $$"
   ]
  },
  {
   "cell_type": "code",
   "execution_count": 8,
   "metadata": {
    "collapsed": false
   },
   "outputs": [
    {
     "data": {
      "text/plain": [
       "210.7235797536662"
      ]
     },
     "execution_count": 8,
     "metadata": {},
     "output_type": "execute_result"
    }
   ],
   "source": [
    "varianza_edad = np.var(data['Age'])\n",
    "varianza_edad"
   ]
  },
  {
   "cell_type": "markdown",
   "metadata": {},
   "source": [
    "¿Años al cuadrado?\n",
    "La varianza es difícil de interpretar debido a las unidades.\n",
    "\n",
    "Por suerte la desviación estándar es un estadístico más significativo.\n",
    "\n",
    "### Desviación estándar\n",
    "\n",
    "$$ \\sigma =  \\sqrt{\\sigma}  $$"
   ]
  },
  {
   "cell_type": "code",
   "execution_count": 12,
   "metadata": {
    "collapsed": false
   },
   "outputs": [
    {
     "data": {
      "text/plain": [
       "14.516321150817317"
      ]
     },
     "execution_count": 12,
     "metadata": {},
     "output_type": "execute_result"
    }
   ],
   "source": [
    "desviacion_edad = np.std(data['Age'])\n",
    "desviacion_edad"
   ]
  },
  {
   "cell_type": "markdown",
   "metadata": {
    "collapsed": true
   },
   "source": [
    "¡Importante!, estas formulas para $\\sigma^2$ y $\\sigma$ se usan para describir a una población completa.\n",
    "\n",
    "Si lidiamos con una muestra de N valores se usan estimadores, $\\bar{x}$ y $S^2$\n",
    "\n",
    "$$ \\bar{x} = \\frac{1}{N} \\sum_{i}^{N} x_i $$\n",
    "\n",
    "$$ S^2 = \\frac{1}{N-1} \\sum_{i}^{N} (x_i - \\bar{x})^2 $$"
   ]
  },
  {
   "cell_type": "markdown",
   "metadata": {},
   "source": [
    "## Distribuciones\n",
    "\n",
    "La media, la varianza y la desviación estádar son estadisticos concisos, pero también peligrosos, ya que nublan la información que nos proporcionan los datos.\n",
    "\n",
    "Un apoyo para entenderlos mejor es ver la distribución de los datos.\n",
    "\n",
    "La representación más común de una distribución es un histograma, que describe frecuencia con la que aparece cada valor."
   ]
  },
  {
   "cell_type": "code",
   "execution_count": 46,
   "metadata": {
    "collapsed": false
   },
   "outputs": [
    {
     "data": {
      "text/plain": [
       "<matplotlib.text.Text at 0xe47fbb84e0>"
      ]
     },
     "execution_count": 46,
     "metadata": {},
     "output_type": "execute_result"
    },
    {
     "data": {
      "image/png": "[encoded data removed]",
      "text/plain": [
       "<matplotlib.figure.Figure at 0xe47fb35048>"
      ]
     },
     "metadata": {},
     "output_type": "display_data"
    }
   ],
   "source": [
    "%matplotlib inline\n",
    "import matplotlib.pyplot as plt\n",
    "\n",
    "edades = data[data.Age.notnull()]['Age']\n",
    "edades.hist()\n",
    "plt.xlabel('Edad', fontsize=18)\n",
    "plt.ylabel('Frecuencia', fontsize=16)"
   ]
  },
  {
   "cell_type": "code",
   "execution_count": 58,
   "metadata": {
    "collapsed": false
   },
   "outputs": [
    {
     "data": {
      "text/plain": [
       "88"
      ]
     },
     "execution_count": 58,
     "metadata": {},
     "output_type": "execute_result"
    }
   ],
   "source": [
    "len(edades.unique())"
   ]
  },
  {
   "cell_type": "code",
   "execution_count": 59,
   "metadata": {
    "collapsed": false
   },
   "outputs": [
    {
     "data": {
      "text/plain": [
       "<matplotlib.text.Text at 0xe47fe01da0>"
      ]
     },
     "execution_count": 59,
     "metadata": {},
     "output_type": "execute_result"
    },
    {
     "data": {
      "image/png": "[encoded data removed]",
      "text/plain": [
       "<matplotlib.figure.Figure at 0xe47fc542b0>"
      ]
     },
     "metadata": {},
     "output_type": "display_data"
    }
   ],
   "source": [
    "edades = data[data.Age.notnull()]['Age']\n",
    "edades.hist(bins=88)\n",
    "plt.xlabel('Edad', fontsize=18)\n",
    "plt.ylabel('Frecuencia', fontsize=16)"
   ]
  },
  {
   "cell_type": "markdown",
   "metadata": {},
   "source": [
    "Los histogramas son útiles porque podemos revisar las siguientes caracteristicas rápidamente:\n",
    "\n",
    "- Moda: El valor más común o que más se repite en una una distribución se llama moda.\n",
    "\n",
    "- Forma: Alrededor de la moda podemos ver que la distribución es asimétrica.\n",
    "\n",
    "- Los valores atípicos. (outliers)"
   ]
  },
  {
   "cell_type": "markdown",
   "metadata": {},
   "source": [
    "### Función de probabilidad\n",
    "\n",
    "Si queremos tranformar las frecuencias a una función de probabilidad debemos dividir la serie entre el número de elementos"
   ]
  },
  {
   "cell_type": "code",
   "execution_count": 60,
   "metadata": {
    "collapsed": false
   },
   "outputs": [
    {
     "data": {
      "text/plain": [
       "<matplotlib.text.Text at 0xe47ffaa390>"
      ]
     },
     "execution_count": 60,
     "metadata": {},
     "output_type": "execute_result"
    },
    {
     "data": {
      "image/png": "[encoded data removed]",
      "text/plain": [
       "<matplotlib.figure.Figure at 0xe47ffa8198>"
      ]
     },
     "metadata": {},
     "output_type": "display_data"
    }
   ],
   "source": [
    "edades.hist(bins=88, normed=True)\n",
    "plt.xlabel('Edad', fontsize=18)\n",
    "plt.ylabel('Probabilidad', fontsize=16)"
   ]
  },
  {
   "cell_type": "markdown",
   "metadata": {},
   "source": [
    "$$ P(X = x) = f(x) $$"
   ]
  },
  {
   "cell_type": "markdown",
   "metadata": {},
   "source": [
    "La función de probabilidad funciona bien si el número de valores es pequeño.\n",
    "\n",
    "Pero a medida que el número de valores aumenta, la probabilidad asociada a cada valor se hace más pequeño.\n",
    "\n",
    "Una alternativa es usar la función de distribución acumulada."
   ]
  },
  {
   "cell_type": "code",
   "execution_count": 68,
   "metadata": {
    "collapsed": false
   },
   "outputs": [
    {
     "data": {
      "text/plain": [
       "count    714.000000\n",
       "mean      29.699118\n",
       "std       14.526497\n",
       "min        0.420000\n",
       "25%       20.125000\n",
       "50%       28.000000\n",
       "75%       38.000000\n",
       "max       80.000000\n",
       "Name: Age, dtype: float64"
      ]
     },
     "execution_count": 68,
     "metadata": {},
     "output_type": "execute_result"
    }
   ],
   "source": [
    "edades.describe()"
   ]
  },
  {
   "cell_type": "markdown",
   "metadata": {},
   "source": [
    "### Función de distribución acumulada"
   ]
  },
  {
   "cell_type": "code",
   "execution_count": 61,
   "metadata": {
    "collapsed": false
   },
   "outputs": [
    {
     "data": {
      "text/plain": [
       "<matplotlib.axes._subplots.AxesSubplot at 0xe400024940>"
      ]
     },
     "execution_count": 61,
     "metadata": {},
     "output_type": "execute_result"
    },
    {
     "data": {
      "image/png": "[encoded data removed]",
      "text/plain": [
       "<matplotlib.figure.Figure at 0xe47ffa8be0>"
      ]
     },
     "metadata": {},
     "output_type": "display_data"
    }
   ],
   "source": [
    "edades.hist(cumulative=True, bins=88, normed=True)"
   ]
  },
  {
   "cell_type": "markdown",
   "metadata": {},
   "source": [
    "$$ P(X \\leq x) = f(x) $$"
   ]
  },
  {
   "cell_type": "markdown",
   "metadata": {
    "collapsed": true
   },
   "source": [
    "### Distribuciones continuas\n",
    "\n",
    "La distribución normal (Gaussiana), es una de las distribuciones de probabilidad que con más frecuencia aparece aproximada en fenómenos reales"
   ]
  },
  {
   "cell_type": "markdown",
   "metadata": {},
   "source": [
    "$$ P(x, \\sigma, \\mu) = \\frac{1}{\\sigma\\sqrt{2 \\pi}}e^{-(x -\\mu)^2/2\\sigma^2}$$"
   ]
  },
  {
   "cell_type": "code",
   "execution_count": 73,
   "metadata": {
    "collapsed": false
   },
   "outputs": [
    {
     "data": {
      "text/plain": [
       "(array([ 0.00420725,  0.00140242,  0.00280483,  0.00981691,  0.016829  ,\n",
       "         0.01262175,  0.0084145 ,  0.02384108,  0.03786524,  0.05469424,\n",
       "         0.05609666,  0.07012082,  0.12201023,  0.14164406,  0.16268031,\n",
       "         0.18932622,  0.22719146,  0.29590987,  0.27767845,  0.32676303,\n",
       "         0.34218961,  0.35761619,  0.36883552,  0.44456601,  0.39548143,\n",
       "         0.39407901,  0.36182344,  0.36322585,  0.30151953,  0.29450745,\n",
       "         0.21877696,  0.22859388,  0.18652138,  0.1795093 ,  0.12201023,\n",
       "         0.09115707,  0.11359573,  0.06451116,  0.04347491,  0.03365799,\n",
       "         0.02664591,  0.01121933,  0.00981691,  0.00560967,  0.00560967,\n",
       "         0.00280483,  0.00140242,  0.        ,  0.        ,  0.00140242]),\n",
       " array([-3.41430229, -3.27169129, -3.1290803 , -2.98646931, -2.84385831,\n",
       "        -2.70124732, -2.55863632, -2.41602533, -2.27341434, -2.13080334,\n",
       "        -1.98819235, -1.84558135, -1.70297036, -1.56035937, -1.41774837,\n",
       "        -1.27513738, -1.13252638, -0.98991539, -0.8473044 , -0.7046934 ,\n",
       "        -0.56208241, -0.41947141, -0.27686042, -0.13424943,  0.00836157,\n",
       "         0.15097256,  0.29358356,  0.43619455,  0.57880554,  0.72141654,\n",
       "         0.86402753,  1.00663853,  1.14924952,  1.29186051,  1.43447151,\n",
       "         1.5770825 ,  1.7196935 ,  1.86230449,  2.00491548,  2.14752648,\n",
       "         2.29013747,  2.43274846,  2.57535946,  2.71797045,  2.86058145,\n",
       "         3.00319244,  3.14580343,  3.28841443,  3.43102542,  3.57363642,\n",
       "         3.71624741]),\n",
       " <a list of 50 Patch objects>)"
      ]
     },
     "execution_count": 73,
     "metadata": {},
     "output_type": "execute_result"
    },
    {
     "data": {
      "image/png": "[encoded data removed]",
      "text/plain": [
       "<matplotlib.figure.Figure at 0xe47fdeada0>"
      ]
     },
     "metadata": {},
     "output_type": "display_data"
    }
   ],
   "source": [
    "import numpy as np\n",
    "x = np.random.randn(5000)\n",
    "\n",
    "# Make a normed histogram. It'll be multiplied by 100 later.\n",
    "plt.hist(x, bins=50, normed=True)"
   ]
  },
  {
   "cell_type": "markdown",
   "metadata": {},
   "source": [
    "### Probabilidad\n",
    "\n",
    "Anteriomente mencionamos que la probabilidad es la frecuencia expresada como una fracción tamaño de muestra.\n",
    "\n",
    "Esa es una definición de probabilidad, pero no es la único y de hecho, el significado de probabilidad es un tema controversial.\n",
    "\n",
    "Existe un consenso general de que la probabilidad es un valor real entre 0 y 1. Este valor pretende dar una medida cuantitativa que corresponde a la noción de que algunas cosas son más probables que otras.\n",
    "\n",
    "$$ P(E) \\epsilon [0,1] $$"
   ]
  },
  {
   "cell_type": "markdown",
   "metadata": {
    "collapsed": true
   },
   "source": [
    "### Scipy (Scientific Python)\n",
    "\n",
    "SciPy contiene un gran número de rutinas para el análisis de datos, generadores de números aleatorios, rutinas de álgebra lineal y optimizadores. "
   ]
  },
  {
   "cell_type": "code",
   "execution_count": null,
   "metadata": {
    "collapsed": true
   },
   "outputs": [],
   "source": [
    "import scipy as sp"
   ]
  }
 ],
 "metadata": {
  "kernelspec": {
   "display_name": "Python 3",
   "language": "python",
   "name": "python3"
  },
  "language_info": {
   "codemirror_mode": {
    "name": "ipython",
    "version": 3
   },
   "file_extension": ".py",
   "mimetype": "text/x-python",
   "name": "python",
   "nbconvert_exporter": "python",
   "pygments_lexer": "ipython3",
   "version": "3.5.1"
  }
 },
 "nbformat": 4,
 "nbformat_minor": 0
}
