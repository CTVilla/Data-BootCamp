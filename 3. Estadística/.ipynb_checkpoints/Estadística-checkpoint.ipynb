{
 "cells": [
  {
   "cell_type": "markdown",
   "metadata": {},
   "source": [
    "### Los datos son baratos pero el conocimiento es más difícil de conseguir"
   ]
  },
  {
   "cell_type": "code",
   "execution_count": null,
   "metadata": {
    "collapsed": true
   },
   "outputs": [],
   "source": [
    "La probabilidad es el estudio de los acontecimientos al azar.\n",
    "La estadística es la disciplina de la utilización de muestras de datos para apoyar las afirmaciones sobre\n",
    "poblaciones . La mayoría de análisis estadístico se basa en la probabilidad, la cual es\n",
    "Por eso estas piezas suelen presentarse juntos.\n",
    "Cálculo es una herramienta que se adapta bien a un análisis cuantitativo y\n",
    "los ordenadores se utilizan comúnmente para procesar estadísticas. También, computacional\n",
    "experimentos son útiles para explorar los conceptos de probabilidad y\n",
    "estadística."
   ]
  },
  {
   "cell_type": "code",
   "execution_count": null,
   "metadata": {
    "collapsed": true
   },
   "outputs": [],
   "source": [
    "La recogida de datos : Se utilizará datos de una gran encuesta nacional que fue diseñado\n",
    "explícitamente con el objetivo de generar inferencias estadísticamente válidas\n",
    "acerca de la población EE.UU. .\n",
    "Estadística descriptiva : Se generarán estadísticas que resumen los datos\n",
    "concisa , y evaluar diferentes formas de visualizar los datos .\n",
    "análisis exploratorio de datos : Vamos a buscar patrones , diferencias, y otros\n",
    "características que responden a las preguntas que les interesa . Al mismo\n",
    "el tiempo vamos a comprobar si hay inconsistencias e identificar limitaciones .\n",
    "La prueba de hipótesis : ¿Dónde vemos efectos aparentes , como una diferencia entre\n",
    "dos grupos , vamos a evaluar si el efecto es real , o\n",
    "si podría haber sucedido por casualidad.\n",
    "Estimación : Vamos a utilizar los datos de una muestra para estimar las características de\n",
    "la población general."
   ]
  },
  {
   "cell_type": "markdown",
   "metadata": {},
   "source": [
    "## Estadistica Descriptiva\n",
    "\n",
    "Empezar a entender mis datos."
   ]
  },
  {
   "cell_type": "code",
   "execution_count": null,
   "metadata": {
    "collapsed": true
   },
   "outputs": [],
   "source": []
  },
  {
   "cell_type": "markdown",
   "metadata": {},
   "source": [
    "### Media\n",
    "\n",
    "Si se tiene una muestra de $n$ valores: $x_i$ \n",
    "La media $\\mu$ es la suma de los valores dividido por el número de valores\n",
    "\n",
    "$$ \\mu = \\frac{1}{n} \\sum_{i}^{n} x_i $$"
   ]
  },
  {
   "cell_type": "code",
   "execution_count": 5,
   "metadata": {
    "collapsed": false
   },
   "outputs": [
    {
     "data": {
      "text/plain": [
       "29.69911764705882"
      ]
     },
     "execution_count": 5,
     "metadata": {},
     "output_type": "execute_result"
    }
   ],
   "source": [
    "import pandas as pd\n",
    "import numpy as np\n",
    "\n",
    "data = pd.read_csv(\"train.csv\")\n",
    "media_edad = np.mean(data['Age'])\n",
    "media_edad"
   ]
  },
  {
   "cell_type": "markdown",
   "metadata": {},
   "source": [
    "La media se encarga de describir la tendencia central de nuestros datos."
   ]
  },
  {
   "cell_type": "markdown",
   "metadata": {},
   "source": [
    "¡Importante!, esta media $\\mu$ se usa para describir a una población completa."
   ]
  },
  {
   "cell_type": "markdown",
   "metadata": {},
   "source": [
    "### Varianza\n",
    "\n",
    "Otro valor estadistico que nos ayuda a entender nuestros datos es la Varianza. A diferencia de la media que describe la tendencia de en donde se centran nuestros datos, la varianza describe que tan lejos se encuentran los datos de la media.\n",
    "\n",
    "$$ \\sigma^2 = \\frac{1}{n} \\sum_{i}^{n} (x_i - \\mu)^2 $$"
   ]
  },
  {
   "cell_type": "code",
   "execution_count": 8,
   "metadata": {
    "collapsed": false
   },
   "outputs": [
    {
     "data": {
      "text/plain": [
       "210.7235797536662"
      ]
     },
     "execution_count": 8,
     "metadata": {},
     "output_type": "execute_result"
    }
   ],
   "source": [
    "varianza_edad = np.var(data['Age'])\n",
    "varianza_edad"
   ]
  },
  {
   "cell_type": "markdown",
   "metadata": {},
   "source": [
    "¿Años al cuadrado?\n",
    "La varianza es difícil de interpretar debido a las unidades.\n",
    "\n",
    "Por suerte la desviación estándar es un estadístico más significativo.\n",
    "\n",
    "### Desviación estándar\n",
    "\n",
    "$$ \\sigma =  \\sqrt{\\sigma}  $$"
   ]
  },
  {
   "cell_type": "code",
   "execution_count": 12,
   "metadata": {
    "collapsed": false
   },
   "outputs": [
    {
     "data": {
      "text/plain": [
       "14.516321150817317"
      ]
     },
     "execution_count": 12,
     "metadata": {},
     "output_type": "execute_result"
    }
   ],
   "source": [
    "desviacion_edad = np.std(data['Age'])\n",
    "desviacion_edad"
   ]
  },
  {
   "cell_type": "markdown",
   "metadata": {
    "collapsed": true
   },
   "source": [
    "¡Importante!, estas formulas para $\\sigma^2$ y $\\sigma$ se usan para describir a una población completa.\n",
    "\n",
    "Si lidiamos con una muestra de N valores se usan estimadores, $\\bar{x}$ y $S^2$\n",
    "\n",
    "$$ \\bar{x} = \\frac{1}{N} \\sum_{i}^{N} x_i $$\n",
    "\n",
    "$$ S^2 = \\frac{1}{N-1} \\sum_{i}^{N} (x_i - \\bar{x})^2 $$"
   ]
  },
  {
   "cell_type": "code",
   "execution_count": null,
   "metadata": {
    "collapsed": true
   },
   "outputs": [],
   "source": []
  },
  {
   "cell_type": "markdown",
   "metadata": {
    "collapsed": true
   },
   "source": [
    "### Scipy (Scientific Python)\n",
    "\n",
    "SciPy contiene un gran número de rutinas para el análisis de datos, generadores de números aleatorios, rutinas de álgebra lineal y optimizadores. "
   ]
  },
  {
   "cell_type": "code",
   "execution_count": null,
   "metadata": {
    "collapsed": true
   },
   "outputs": [],
   "source": [
    "import scipy as sp"
   ]
  }
 ],
 "metadata": {
  "kernelspec": {
   "display_name": "Python 3",
   "language": "python",
   "name": "python3"
  },
  "language_info": {
   "codemirror_mode": {
    "name": "ipython",
    "version": 3
   },
   "file_extension": ".py",
   "mimetype": "text/x-python",
   "name": "python",
   "nbconvert_exporter": "python",
   "pygments_lexer": "ipython3",
   "version": "3.5.1"
  }
 },
 "nbformat": 4,
 "nbformat_minor": 0
}
